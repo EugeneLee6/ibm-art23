{
 "cells": [
  {
   "cell_type": "code",
   "execution_count": 64,
   "id": "55dbff2c-294f-4197-82ea-334834abdf8d",
   "metadata": {},
   "outputs": [
    {
     "name": "stdout",
     "output_type": "stream",
     "text": [
      "[['1L'], ['9L'], ['2S'], ['0M'], ['2S']]\n",
      "[['0L'], ['0L']]\n",
      "No\n",
      "No\n"
     ]
    }
   ],
   "source": [
    "if __name__ == \"__main__\":\n",
    "    \n",
    "    number_shirt = input()\n",
    "    size_shirt = input()\n",
    "    number_request = input()\n",
    "    size_request = input()\n",
    "\n",
    "    size_shirt_list = size_shirt.split()\n",
    "    size_request_list = size_request.split()\n",
    "\n",
    "    size_shirt_list_format = []\n",
    "    size_request_format = []\n",
    "\n",
    "    for x in size_shirt_list:\n",
    "        x_split = x.split('X')\n",
    "        size_shirt_list_format.append([str(x_split.count(''))+x[-1]])\n",
    "    for x in size_request_list:\n",
    "        x_split = x.split('X')\n",
    "        size_request_format.append([str(x_split.count(''))+x[-1]])\n",
    "\n",
    "    # print(size_shirt_list_format)\n",
    "    # print(size_request_format)\n",
    "\n",
    "    if(number_shirt < number_request):\n",
    "        print(\"No\")\n",
    "    else:\n",
    "        count = 0\n",
    "        for request in size_request_format:\n",
    "            if(size_shirt_list_format.count(request) > 0):\n",
    "                size_request_format.pop(count)\n",
    "            count +=1\n",
    "        # print(size_request_format)\n",
    "        for request in size_request_format:\n",
    "            for shirt in size_shirt_list_format:\n",
    "                if(int(request[0][0]) <= int(shirt[0][0])):\n",
    "                    if(request[0][1] == shirt[0][0]):\n",
    "                        print(\"Yes\")\n",
    "                        break\n",
    "                    else:\n",
    "                        print(\"No\")\n",
    "                        break\n",
    "                else:\n",
    "                    print(\"No\")\n",
    "                    break"
   ]
  }
 ],
 "metadata": {
  "kernelspec": {
   "display_name": "Python 3 (ipykernel)",
   "language": "python",
   "name": "python3"
  },
  "language_info": {
   "codemirror_mode": {
    "name": "ipython",
    "version": 3
   },
   "file_extension": ".py",
   "mimetype": "text/x-python",
   "name": "python",
   "nbconvert_exporter": "python",
   "pygments_lexer": "ipython3",
   "version": "3.9.7"
  }
 },
 "nbformat": 4,
 "nbformat_minor": 5
}
